{
 "cells": [
  {
   "cell_type": "code",
   "execution_count": 52,
   "metadata": {},
   "outputs": [],
   "source": [
    "from selenium import webdriver\n",
    "from selenium.webdriver.common.keys import Keys\n",
    "from selenium.webdriver.common.by import By\n",
    "import time\n"
   ]
  },
  {
   "cell_type": "code",
   "execution_count": 53,
   "metadata": {},
   "outputs": [],
   "source": [
    "page = 1 \n",
    "\n",
    "states_dict = {\n",
    "    1: 'Andaman and Nicobar Islands',\n",
    "    2: 'Andhra Pradesh',\n",
    "    3: 'Arunachal Pradesh',\n",
    "    4: 'Assam',\n",
    "    5: 'Bihar',\n",
    "    6: 'Chandigarh',\n",
    "    7: 'Chhattisgarh',\n",
    "    8: 'Dadra and Nagar Haveli and Daman and Diu',\n",
    "    9: 'Delhi',\n",
    "    10: 'Goa',\n",
    "    11: 'Gujarat',\n",
    "    12: 'Haryana',\n",
    "    13: 'Himachal Pradesh',\n",
    "    14: 'Jammu and Kashmir',\n",
    "    15: 'Jharkhand',\n",
    "    16: 'Karnataka',\n",
    "    17: 'Kerala',\n",
    "    18: 'Ladakh',\n",
    "    19: 'Lakshadweep',\n",
    "    20: 'Madhya Pradesh',\n",
    "    21: 'Maharashtra',\n",
    "    22: 'Manipur',\n",
    "    23: 'Meghalaya',\n",
    "    24: 'Mizoram',\n",
    "    25: 'Nagaland',\n",
    "    26: 'Odisha',\n",
    "    27: 'Puducherry',\n",
    "    28: 'Punjab',\n",
    "    29: 'Rajasthan',\n",
    "    30: 'Sikkim',\n",
    "    31: 'Tamil Nadu',\n",
    "    32: 'Telangana',\n",
    "    33: 'Tripura',\n",
    "    34: 'Uttar Pradesh',\n",
    "    35: 'Uttarakhand',\n",
    "    36: 'West Bengal'\n",
    "}\n"
   ]
  },
  {
   "cell_type": "code",
   "execution_count": 54,
   "metadata": {},
   "outputs": [],
   "source": [
    "\n",
    "driver = webdriver.Chrome()\n",
    "for state in range(1,37):\n",
    "\n",
    "    url = f\"https://myneta.info/LokSabha2024/index.php?action=show_constituencies&state_id={state}&page={page}\"\n",
    "    driver.get(url)\n",
    "    # time.sleep(0.5)\n",
    "\n",
    "    table = driver.find_element(By.TAG_NAME, 'table')\n",
    "\n",
    "    # print(elem.text) # this will show you the data on terminal\n",
    "    # to save the data in a text file\n",
    "    with open(f\"../data/html/{states_dict[state]}_{page}.html\", \"w\", encoding = \"utf-8\") as f:\n",
    "        data = table.get_attribute(\"outerHTML\")\n",
    "        f.write(data)\n",
    "        # html_file += 1\n",
    "\n",
    "\n",
    "driver.close()"
   ]
  }
 ],
 "metadata": {
  "kernelspec": {
   "display_name": "manthan",
   "language": "python",
   "name": "python3"
  },
  "language_info": {
   "codemirror_mode": {
    "name": "ipython",
    "version": 3
   },
   "file_extension": ".py",
   "mimetype": "text/x-python",
   "name": "python",
   "nbconvert_exporter": "python",
   "pygments_lexer": "ipython3",
   "version": "3.12.3"
  }
 },
 "nbformat": 4,
 "nbformat_minor": 2
}
