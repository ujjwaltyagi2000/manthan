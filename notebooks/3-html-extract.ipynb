{
 "cells": [
  {
   "cell_type": "code",
   "execution_count": 1,
   "metadata": {},
   "outputs": [],
   "source": [
    "from bs4 import BeautifulSoup\n",
    "import pandas as pd\n",
    "import os\n",
    "from io import StringIO"
   ]
  },
  {
   "cell_type": "code",
   "execution_count": 2,
   "metadata": {},
   "outputs": [],
   "source": [
    "# Directories containing HTML files for 2019 and 2024\n",
    "html_files_dir_2019 = \"../data/html/candidate-background-2019\"\n",
    "html_files_dir_2024 = \"../data/html/candidate-background-2024\""
   ]
  },
  {
   "cell_type": "code",
   "execution_count": 3,
   "metadata": {},
   "outputs": [],
   "source": [
    "# Function to process HTML content and extract data\n",
    "def process_html(file_path):\n",
    "    with open(file_path, 'r', encoding='utf-8') as file:\n",
    "        # Use BeautifulSoup to parse the HTML content\n",
    "        soup = BeautifulSoup(file, 'html.parser')\n",
    "        \n",
    "        # Find the table within the HTML\n",
    "        table = soup.find('table')\n",
    "        \n",
    "        # Use pandas to read the HTML table, wrapping the string in a StringIO object\n",
    "        df = pd.read_html(StringIO(str(table)))[0]\n",
    "        \n",
    "        return df"
   ]
  },
  {
   "cell_type": "code",
   "execution_count": 4,
   "metadata": {},
   "outputs": [],
   "source": [
    "\n",
    "# Function to process all HTML files in a directory and return a DataFrame\n",
    "def process_html_directory(directory_path):\n",
    "    # List all HTML files in the directory\n",
    "    html_files = [file for file in os.listdir(directory_path) if file.endswith('.html')]\n",
    "\n",
    "    # Initialize an empty DataFrame to store all data\n",
    "    all_data = pd.DataFrame()\n",
    "\n",
    "    # Process each HTML file and append the data to the DataFrame\n",
    "    for html_file in html_files:\n",
    "        # Extract the state name from the file name\n",
    "        state = html_file.split('_')[0]\n",
    "        \n",
    "        # Construct the full file path\n",
    "        file_path = os.path.join(directory_path, html_file)\n",
    "        \n",
    "        # Process the HTML file\n",
    "        df = process_html(file_path)\n",
    "        \n",
    "        # Add the state column to the DataFrame\n",
    "        df['State'] = state\n",
    "        \n",
    "        # Append to the main DataFrame\n",
    "        all_data = pd.concat([all_data, df], ignore_index=True)\n",
    "\n",
    "    # Drop the 'Sno .' column if it exists\n",
    "    all_data = all_data.drop(columns=['Sno .'], errors='ignore')\n",
    "\n",
    "    return all_data"
   ]
  },
  {
   "cell_type": "code",
   "execution_count": 5,
   "metadata": {},
   "outputs": [
    {
     "name": "stdout",
     "output_type": "stream",
     "text": [
      "Data saved to CSV files successfully.\n"
     ]
    }
   ],
   "source": [
    "# Process HTML files for 2019 and 2024 elections\n",
    "data_2019 = process_html_directory(html_files_dir_2019)\n",
    "data_2024 = process_html_directory(html_files_dir_2024)\n",
    "\n",
    "# Save the combined DataFrame to CSV files\n",
    "data_2019.to_csv('../data/raw/candidate_background_2019.csv', index=False)\n",
    "data_2024.to_csv('../data/raw/candidate_background_2024.csv', index=False)\n",
    "\n",
    "print(\"Data saved to CSV files successfully.\")"
   ]
  }
 ],
 "metadata": {
  "kernelspec": {
   "display_name": "manthan",
   "language": "python",
   "name": "python3"
  },
  "language_info": {
   "codemirror_mode": {
    "name": "ipython",
    "version": 3
   },
   "file_extension": ".py",
   "mimetype": "text/x-python",
   "name": "python",
   "nbconvert_exporter": "python",
   "pygments_lexer": "ipython3",
   "version": "3.12.3"
  }
 },
 "nbformat": 4,
 "nbformat_minor": 2
}
